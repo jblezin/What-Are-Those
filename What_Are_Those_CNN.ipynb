{
  "nbformat": 4,
  "nbformat_minor": 0,
  "metadata": {
    "colab": {
      "name": "What Are Those CNN.ipynb",
      "provenance": [],
      "collapsed_sections": []
    },
    "kernelspec": {
      "name": "python3",
      "display_name": "Python 3"
    },
    "accelerator": "GPU"
  },
  "cells": [
    {
      "cell_type": "code",
      "metadata": {
        "id": "u6Aepc6SN6uQ",
        "colab_type": "code",
        "colab": {
          "base_uri": "https://localhost:8080/",
          "height": 85
        },
        "outputId": "fe6f8fa7-888b-4369-98c1-a3b1416c900a"
      },
      "source": [
        "# display and plotting imports\n",
        "%pylab inline \n",
        "import seaborn as sns\n",
        "sns.set()\n",
        "from IPython.display import SVG\n",
        "\n",
        "import pandas as pd\n",
        "\n",
        "#######################\n",
        "# standard code block #\n",
        "#######################\n",
        "\n",
        "# see https://ipython.readthedocs.io/en/stable/interactive/magics.html\n",
        "%pylab inline\n",
        "\n",
        "# sets backend to render higher res images\n",
        "%config InlineBackend.figure_formats = ['retina']\n",
        "\n",
        "#######################\n",
        "#       imports       #\n",
        "#######################\n",
        "\n",
        "from keras.applications.vgg16 import VGG16\n",
        "from keras.applications.imagenet_utils import decode_predictions"
      ],
      "execution_count": 1,
      "outputs": [
        {
          "output_type": "stream",
          "text": [
            "Populating the interactive namespace from numpy and matplotlib\n"
          ],
          "name": "stdout"
        },
        {
          "output_type": "stream",
          "text": [
            "/usr/local/lib/python3.6/dist-packages/statsmodels/tools/_testing.py:19: FutureWarning: pandas.util.testing is deprecated. Use the functions in the public API at pandas.testing instead.\n",
            "  import pandas.util.testing as tm\n"
          ],
          "name": "stderr"
        },
        {
          "output_type": "stream",
          "text": [
            "Populating the interactive namespace from numpy and matplotlib\n"
          ],
          "name": "stdout"
        }
      ]
    },
    {
      "cell_type": "code",
      "metadata": {
        "id": "4VWXivdAN-KQ",
        "colab_type": "code",
        "colab": {}
      },
      "source": [
        "from keras.models import Model, Sequential\n",
        "from keras.layers import Dense, Conv2D, MaxPooling2D, Flatten\n",
        "\n",
        "# note we exclude the final dense layers by setting include_top=False,\n",
        "# and add new ones to train from scratch below\n",
        "base_model = VGG16(weights='imagenet', include_top=False, input_shape=(224,224,3)) \n",
        " \n",
        "# Freeze convolutional layers\n",
        "for layer in base_model.layers:\n",
        "    layer.trainable = False    \n",
        "\n",
        "# Establish new fully connected block\n",
        "x = base_model.output\n",
        "x = Flatten()(x)  # flatten from convolution tensor output  \n",
        "x = Dense(500, activation='relu')(x) # number of layers and units are hyperparameters, as usual\n",
        "x = Dense(500, activation='relu')(x)\n",
        "predictions = Dense(6, activation='softmax')(x) # should match # of classes predicted\n",
        "\n",
        "# this is the model we will train\n",
        "model = Model(inputs=base_model.input, outputs=predictions)\n",
        "model.compile(optimizer='adam', loss='categorical_crossentropy', metrics=['accuracy'])"
      ],
      "execution_count": 2,
      "outputs": []
    },
    {
      "cell_type": "code",
      "metadata": {
        "id": "DWjvrM17N-OC",
        "colab_type": "code",
        "colab": {}
      },
      "source": [
        "from keras.preprocessing.image import ImageDataGenerator\n",
        "\n",
        "# this is the augmentation configuration we will use for training\n",
        "train_datagen = ImageDataGenerator(\n",
        "        rescale=1./255,\n",
        "        shear_range=0.2,\n",
        "        zoom_range=0.2,\n",
        "        horizontal_flip=True)\n",
        "\n",
        "# this is the augmentation configuration we will use for testing:\n",
        "# only rescaling\n",
        "valid_datagen = ImageDataGenerator(rescale=1./255)\n"
      ],
      "execution_count": 3,
      "outputs": []
    },
    {
      "cell_type": "code",
      "metadata": {
        "id": "zjDnM48yN-Rc",
        "colab_type": "code",
        "colab": {
          "base_uri": "https://localhost:8080/",
          "height": 34
        },
        "outputId": "98d7e6b7-44bd-4537-9547-064eeebc8d66"
      },
      "source": [
        "#flow from directory command in Keras\n",
        "# this is a generator that will read pictures found in subfolers of 'Train'\n",
        "train_generator = train_datagen.flow_from_directory(\n",
        "    directory=r\"/content/drive/My Drive/Train\",    # this is the target directory\n",
        "    target_size=(224, 224),                                    # all images will be resized to 224x224\n",
        "    color_mode=\"rgb\",\n",
        "    batch_size=32,\n",
        "    class_mode=\"categorical\",     #since we use categorical_crossentropy loss, we need categorical labels\n",
        "    shuffle=True,\n",
        "    seed=42\n",
        ")"
      ],
      "execution_count": 4,
      "outputs": [
        {
          "output_type": "stream",
          "text": [
            "Found 2796 images belonging to 6 classes.\n"
          ],
          "name": "stdout"
        }
      ]
    },
    {
      "cell_type": "code",
      "metadata": {
        "id": "I88x87HGN-U6",
        "colab_type": "code",
        "colab": {
          "base_uri": "https://localhost:8080/",
          "height": 34
        },
        "outputId": "33265d15-8871-40fc-cada-f7d54595e589"
      },
      "source": [
        "#flow from directory command in Keras\n",
        "# this is a generator that will read pictures found in subfolers of 'Validation'\n",
        "valid_generator = valid_datagen.flow_from_directory(\n",
        "    directory=r\"/content/drive/My Drive/Validation\",    # this is the target directory\n",
        "    target_size=(224, 224),                                 # all images will be resized to 224x224\n",
        "    color_mode=\"rgb\",\n",
        "    batch_size=32,\n",
        "    class_mode=\"categorical\",  #since we use categorical_crossentropy loss, we need categorical labels\n",
        "    shuffle=True,\n",
        "    seed=42\n",
        ")"
      ],
      "execution_count": 5,
      "outputs": [
        {
          "output_type": "stream",
          "text": [
            "Found 2763 images belonging to 6 classes.\n"
          ],
          "name": "stdout"
        }
      ]
    },
    {
      "cell_type": "code",
      "metadata": {
        "id": "Eb48BZWSN-Yj",
        "colab_type": "code",
        "colab": {
          "base_uri": "https://localhost:8080/",
          "height": 34
        },
        "outputId": "162aaa61-8d14-49be-9881-04850a2e737e"
      },
      "source": [
        "#flow from directory command in Keras\n",
        "# this is a generator that will read pictures found in subfolers of 'Test'\n",
        "test_datagen = ImageDataGenerator()\n",
        "\n",
        "test_generator = test_datagen.flow_from_directory(\n",
        "    directory=r\"/content/drive/My Drive/Test\",\n",
        "    target_size=(224, 224),\n",
        "    color_mode=\"rgb\",\n",
        "    batch_size=1,\n",
        "    class_mode=\"categorical\",\n",
        "    shuffle=False,\n",
        "    seed=42\n",
        ")"
      ],
      "execution_count": 6,
      "outputs": [
        {
          "output_type": "stream",
          "text": [
            "Found 3658 images belonging to 1 classes.\n"
          ],
          "name": "stdout"
        }
      ]
    },
    {
      "cell_type": "code",
      "metadata": {
        "id": "i1WuhyNaN-fZ",
        "colab_type": "code",
        "colab": {
          "base_uri": "https://localhost:8080/",
          "height": 578
        },
        "outputId": "64598c4b-4a72-44f4-dc6e-05669e79e8f3"
      },
      "source": [
        "#Fitting/Training the model\n",
        "STEP_SIZE_TRAIN=train_generator.n//train_generator.batch_size\n",
        "\n",
        "STEP_SIZE_VALID=valid_generator.n//valid_generator.batch_size\n",
        "\n",
        "history = model.fit_generator(generator=train_generator,\n",
        "                    steps_per_epoch=STEP_SIZE_TRAIN,\n",
        "                    validation_data=valid_generator,\n",
        "                    validation_steps=STEP_SIZE_VALID,\n",
        "                    epochs=10\n",
        ")"
      ],
      "execution_count": 7,
      "outputs": [
        {
          "output_type": "stream",
          "text": [
            "WARNING:tensorflow:From <ipython-input-7-96b5517c0456>:10: Model.fit_generator (from tensorflow.python.keras.engine.training) is deprecated and will be removed in a future version.\n",
            "Instructions for updating:\n",
            "Please use Model.fit, which supports generators.\n",
            "Epoch 1/15\n",
            "87/87 [==============================] - 1066s 12s/step - loss: 1.4470 - accuracy: 0.6863 - val_loss: 0.5256 - val_accuracy: 0.8136\n",
            "Epoch 2/15\n",
            "87/87 [==============================] - 82s 938ms/step - loss: 0.2828 - accuracy: 0.9096 - val_loss: 0.3575 - val_accuracy: 0.8852\n",
            "Epoch 3/15\n",
            "87/87 [==============================] - 81s 937ms/step - loss: 0.1758 - accuracy: 0.9475 - val_loss: 0.3444 - val_accuracy: 0.8917\n",
            "Epoch 4/15\n",
            "87/87 [==============================] - 82s 940ms/step - loss: 0.1742 - accuracy: 0.9468 - val_loss: 0.3127 - val_accuracy: 0.9015\n",
            "Epoch 5/15\n",
            "87/87 [==============================] - 82s 944ms/step - loss: 0.1619 - accuracy: 0.9446 - val_loss: 0.4429 - val_accuracy: 0.8790\n",
            "Epoch 6/15\n",
            "87/87 [==============================] - 82s 943ms/step - loss: 0.1712 - accuracy: 0.9432 - val_loss: 0.4097 - val_accuracy: 0.8863\n",
            "Epoch 7/15\n",
            "87/87 [==============================] - 82s 938ms/step - loss: 0.1054 - accuracy: 0.9638 - val_loss: 0.5192 - val_accuracy: 0.8666\n",
            "Epoch 8/15\n",
            "87/87 [==============================] - 81s 933ms/step - loss: 0.0997 - accuracy: 0.9703 - val_loss: 0.3355 - val_accuracy: 0.9124\n",
            "Epoch 9/15\n",
            "87/87 [==============================] - 80s 923ms/step - loss: 0.0555 - accuracy: 0.9826 - val_loss: 0.3298 - val_accuracy: 0.9186\n",
            "Epoch 10/15\n",
            "87/87 [==============================] - 79s 911ms/step - loss: 0.0482 - accuracy: 0.9830 - val_loss: 0.4383 - val_accuracy: 0.9008\n",
            "Epoch 11/15\n",
            "87/87 [==============================] - 78s 897ms/step - loss: 0.0584 - accuracy: 0.9790 - val_loss: 0.3686 - val_accuracy: 0.9062\n",
            "Epoch 12/15\n",
            "87/87 [==============================] - 78s 896ms/step - loss: 0.0555 - accuracy: 0.9808 - val_loss: 0.5490 - val_accuracy: 0.8754\n",
            "Epoch 13/15\n",
            "87/87 [==============================] - 78s 899ms/step - loss: 0.1430 - accuracy: 0.9512 - val_loss: 0.5324 - val_accuracy: 0.8812\n",
            "Epoch 14/15\n",
            "87/87 [==============================] - 78s 899ms/step - loss: 0.0570 - accuracy: 0.9805 - val_loss: 0.3246 - val_accuracy: 0.9230\n",
            "Epoch 15/15\n",
            "87/87 [==============================] - 79s 910ms/step - loss: 0.0660 - accuracy: 0.9761 - val_loss: 0.3742 - val_accuracy: 0.9121\n"
          ],
          "name": "stdout"
        }
      ]
    },
    {
      "cell_type": "code",
      "metadata": {
        "id": "-1HKuH4w-K6P",
        "colab_type": "code",
        "colab": {
          "base_uri": "https://localhost:8080/",
          "height": 299
        },
        "outputId": "242a5fa6-044f-4644-afdb-36e447567ecd"
      },
      "source": [
        "plt.plot(history.history['accuracy'])\n",
        "plt.plot(history.history['val_accuracy'])\n",
        "\n",
        "plt.title('Accuracy vs. Training Epoch')\n",
        "plt.xlabel('Epoch')\n",
        "plt.ylabel('Accuracy')\n",
        "plt.legend(['Train','Validation']);"
      ],
      "execution_count": 11,
      "outputs": [
        {
          "output_type": "display_data",
          "data": {
            "image/png": "[encoded data removed]",
            "text/plain": [
              "<Figure size 432x288 with 1 Axes>"
            ]
          },
          "metadata": {
            "tags": [],
            "image/png": {
              "width": 399,
              "height": 282
            },
            "needs_background": "light"
          }
        }
      ]
    },
    {
      "cell_type": "code",
      "metadata": {
        "id": "xDv4nvShxvyp",
        "colab_type": "code",
        "colab": {}
      },
      "source": [
        "#Targeted Categories (numerical labels)\n",
        "true_classes = valid_generator.classes\n",
        "#Targeted Categories (labels)\n",
        "class_labels = list(valid_generator.class_indices.keys())  "
      ],
      "execution_count": 35,
      "outputs": []
    },
    {
      "cell_type": "code",
      "metadata": {
        "id": "hYV8MkmMdvHl",
        "colab_type": "code",
        "colab": {
          "base_uri": "https://localhost:8080/",
          "height": 374
        },
        "outputId": "a0508911-1f47-4d06-e134-a4d31d97a961"
      },
      "source": [
        "#Sklearn confusion matrix\n",
        "#Model Accuracy metrics\n",
        "from sklearn.metrics import classification_report, confusion_matrix\n",
        "\n",
        "#Confution Matrix and Classification Report\n",
        "Y_pred = model.predict_generator(valid_generator)\n",
        "y_pred = np.argmax(Y_pred, axis=1)\n",
        "cm = confusion_matrix(valid_generator.classes, y_pred)\n",
        "print('Confusion Matrix')\n",
        "print(confusion_matrix(valid_generator.classes, y_pred))\n",
        "print('Classification Report')\n",
        "class_labels = list(valid_generator.class_indices.keys())  \n",
        "print(classification_report(valid_generator.classes, y_pred, target_names = class_labels))"
      ],
      "execution_count": 82,
      "outputs": [
        {
          "output_type": "stream",
          "text": [
            "Confusion Matrix\n",
            "[[135 169  30 108 133  41]\n",
            " [150 219  40 117 171  52]\n",
            " [ 38  41  12  24  25  11]\n",
            " [ 69 126  25  65  91  30]\n",
            " [132 164  41 124 121  27]\n",
            " [ 68  55  10  34  56   9]]\n",
            "Classification Report\n",
            "                precision    recall  f1-score   support\n",
            "\n",
            "        Adidas       0.23      0.22      0.22       616\n",
            "    Air Jordan       0.28      0.29      0.29       749\n",
            "          Kobe       0.08      0.08      0.08       151\n",
            "Nike Air Force       0.14      0.16      0.15       406\n",
            "  Nike Air Max       0.20      0.20      0.20       609\n",
            "       Nike SB       0.05      0.04      0.04       232\n",
            "\n",
            "      accuracy                           0.20      2763\n",
            "     macro avg       0.16      0.16      0.16      2763\n",
            "  weighted avg       0.20      0.20      0.20      2763\n",
            "\n"
          ],
          "name": "stdout"
        }
      ]
    },
    {
      "cell_type": "code",
      "metadata": {
        "id": "Yx2Ywos6GGDx",
        "colab_type": "code",
        "colab": {
          "base_uri": "https://localhost:8080/",
          "height": 266
        },
        "outputId": "61f8f318-f2fd-4625-e47a-4fe635755a3c"
      },
      "source": [
        "#cnn_pred_cifar = model.predict(x_test)\n",
        "Y_pred = model.predict_generator(valid_generator)\n",
        "\n",
        "#cnn_pred_cifar = np.argmax(cnn_pred_cifar,axis=1)\n",
        "y_pred = np.argmax(Y_pred, axis=1)\n",
        "\n",
        "\n",
        "#y_true = np.argmax(y_test_tf,axis=1)\n",
        "y_true = np.argmax(valid_generator.classes ,axis=0)\n",
        "\n",
        "\n",
        "\n"
      ],
      "execution_count": 75,
      "outputs": [
        {
          "output_type": "stream",
          "text": [
            "-----------------Convolutional Neural Network Report---------------\n"
          ],
          "name": "stdout"
        },
        {
          "output_type": "error",
          "ename": "TypeError",
          "evalue": "ignored",
          "traceback": [
            "\u001b[0;31m---------------------------------------------------------------------------\u001b[0m",
            "\u001b[0;31mTypeError\u001b[0m                                 Traceback (most recent call last)",
            "\u001b[0;32m<ipython-input-75-cfb9c7662fbc>\u001b[0m in \u001b[0;36m<module>\u001b[0;34m()\u001b[0m\n\u001b[1;32m     13\u001b[0m \u001b[0;34m\u001b[0m\u001b[0m\n\u001b[1;32m     14\u001b[0m \u001b[0mplt\u001b[0m\u001b[0;34m.\u001b[0m\u001b[0mfigure\u001b[0m\u001b[0;34m(\u001b[0m\u001b[0;34m)\u001b[0m\u001b[0;34m\u001b[0m\u001b[0;34m\u001b[0m\u001b[0m\n\u001b[0;32m---> 15\u001b[0;31m \u001b[0mplot_confusion_matrix\u001b[0m\u001b[0;34m(\u001b[0m \u001b[0my_pred\u001b[0m \u001b[0;34m,\u001b[0m  \u001b[0my_true\u001b[0m\u001b[0;34m,\u001b[0m \u001b[0mlabels\u001b[0m \u001b[0;34m=\u001b[0m \u001b[0mclass_labels\u001b[0m\u001b[0;34m)\u001b[0m\u001b[0;34m\u001b[0m\u001b[0;34m\u001b[0m\u001b[0m\n\u001b[0m\u001b[1;32m     16\u001b[0m \u001b[0mplt\u001b[0m\u001b[0;34m.\u001b[0m\u001b[0mshow\u001b[0m\u001b[0;34m(\u001b[0m\u001b[0;34m)\u001b[0m\u001b[0;34m\u001b[0m\u001b[0;34m\u001b[0m\u001b[0m\n\u001b[1;32m     17\u001b[0m \u001b[0;34m\u001b[0m\u001b[0m\n",
            "\u001b[0;31mTypeError\u001b[0m: plot_confusion_matrix() missing 1 required positional argument: 'y_true'"
          ]
        },
        {
          "output_type": "display_data",
          "data": {
            "text/plain": [
              "<Figure size 432x288 with 0 Axes>"
            ]
          },
          "metadata": {
            "tags": []
          }
        }
      ]
    },
    {
      "cell_type": "code",
      "metadata": {
        "id": "HY8eNDJf3ydr",
        "colab_type": "code",
        "colab": {}
      },
      "source": [
        "import itertools\n",
        "import numpy as np\n",
        "import matplotlib.pyplot as plt\n",
        "\n",
        "def plot_confusion_matrix2(cm, classes, normalize=False, title='Confusion matrix', cmap=plt.cm.Blues):\n",
        "    if normalize:\n",
        "        cm = cm.astype('float') / cm.sum(axis=1)[:, np.newaxis]\n",
        "        print(\"Normalized confusion matrix\")\n",
        "    else:\n",
        "        print('Confusion matrix, without normalization')\n",
        "\n",
        "    print(cm)\n",
        "    plt.imshow(cm, interpolation='nearest', cmap=cmap)\n",
        "    plt.title(title)\n",
        "    plt.colorbar()\n",
        "    tick_marks = np.arange(len(classes))\n",
        "    plt.xticks(tick_marks, classes, rotation=45)\n",
        "    plt.yticks(tick_marks, classes)\n",
        "\n",
        "    fmt = '.2f' if normalize else 'd'\n",
        "    thresh = cm.max() / 2.\n",
        "    for i, j in itertools.product(range(cm.shape[0]), range(cm.shape[1])):\n",
        "        plt.text(j, i, format(cm[i, j], fmt), horizontalalignment=\"center\", color=\"white\" if cm[i, j] > thresh else \"black\")\n",
        "\n",
        "    plt.tight_layout()\n",
        "    plt.ylabel('True label')\n",
        "    plt.xlabel('Predicted label')"
      ],
      "execution_count": 76,
      "outputs": []
    },
    {
      "cell_type": "code",
      "metadata": {
        "id": "eMr_pYuk-Z5g",
        "colab_type": "code",
        "colab": {
          "base_uri": "https://localhost:8080/",
          "height": 848
        },
        "outputId": "ba97d797-564c-4b7e-c4af-1e76ce1032d6"
      },
      "source": [
        "#Confusion Matrix\n",
        "plt.figure(figsize=(10,10))\n",
        "plot_confusion_matrix2(cm, valid_generator.classes)"
      ],
      "execution_count": 77,
      "outputs": [
        {
          "output_type": "stream",
          "text": [
            "Confusion matrix, without normalization\n",
            "[[142 159  25 114 141  35]\n",
            " [168 210  38 128 156  49]\n",
            " [ 24  53   9  24  27  14]\n",
            " [ 82 128  24  58  89  25]\n",
            " [129 166  43 105 139  27]\n",
            " [ 47  58  19  43  45  20]]\n"
          ],
          "name": "stdout"
        },
        {
          "output_type": "display_data",
          "data": {
            "image/png": "[encoded data removed]",
            "text/plain": [
              "<Figure size 720x720 with 2 Axes>"
            ]
          },
          "metadata": {
            "tags": [],
            "image/png": {
              "width": 692,
              "height": 712
            },
            "needs_background": "light"
          }
        }
      ]
    },
    {
      "cell_type": "code",
      "metadata": {
        "id": "KdEJjNXBM-kD",
        "colab_type": "code",
        "colab": {
          "base_uri": "https://localhost:8080/",
          "height": 68
        },
        "outputId": "e679e347-3387-4a6a-ce1f-9049429c05f3"
      },
      "source": [
        "from keras.models import Model\n",
        "import keras\n",
        "inter_model = keras.Model(model.input, model.layers[-2].output)\n",
        "inter_output = inter_model.predict_generator(test_generator)"
      ],
      "execution_count": 13,
      "outputs": [
        {
          "output_type": "stream",
          "text": [
            "WARNING:tensorflow:From <ipython-input-13-ddc4b3ba5a27>:4: Model.predict_generator (from tensorflow.python.keras.engine.training) is deprecated and will be removed in a future version.\n",
            "Instructions for updating:\n",
            "Please use Model.predict, which supports generators.\n"
          ],
          "name": "stdout"
        }
      ]
    },
    {
      "cell_type": "code",
      "metadata": {
        "id": "6P6J1ivBIGRD",
        "colab_type": "code",
        "colab": {}
      },
      "source": [
        "shoe_name = test_generator.filenames"
      ],
      "execution_count": 14,
      "outputs": []
    },
    {
      "cell_type": "code",
      "metadata": {
        "id": "oF6qkyKEN-ky",
        "colab_type": "code",
        "colab": {
          "base_uri": "https://localhost:8080/",
          "height": 357
        },
        "outputId": "7c3abddd-6219-4289-aae8-b67387d3a888"
      },
      "source": [
        "#Get vector from CNN and pass through pair wise distance\n",
        "from sklearn.metrics import pairwise_distances\n",
        "d = pairwise_distances(inter_output,metric='cosine')\n",
        "\n",
        "[shoe_name[m] for m in d[1].argsort()[:20]] #for Sneaker #1"
      ],
      "execution_count": 87,
      "outputs": [
        {
          "output_type": "execute_result",
          "data": {
            "text/plain": [
              "[\"Test/1 retro high bg 'Rare Air'.png\",\n",
              " \"Test/Air Jordan 1 Retro High 'Rare Air'.png\",\n",
              " \"Test/Air Jordan 1 Mid 'Grey Volt'.png\",\n",
              " \"Test/Air Jordan 1 Mid Noveau 'BHM'.png\",\n",
              " \"Test/Air Jordan 1 Mid 'Glow In The Dark'.png\",\n",
              " \"Test/Wmns Air Jordan 1 High OG 'UNC To Chicago'.png\",\n",
              " \"Test/Air Jordan 1 Mid 'Maybe I Destroyed the Game'.png\",\n",
              " \"Test/Air Jordan 1 Retro High 'Melo'.png\",\n",
              " \"Test/Air Jordan 1 Mid 'Michigan'.png\",\n",
              " \"Test/Air Jordan 1 Retro High Premium 'Grey Camo'.png\",\n",
              " \"Test/Air Jordan 1 Mid Retro SE 'Grey Fog'.png\",\n",
              " \"Test/Air Jordan 1 Retro High OG BG 'Shattered Backboard 3.0'.png\",\n",
              " \"Test/Air Jordan 1 Mid 'Game Royal'.png\",\n",
              " \"Test/Air Jordan 1 Retro Phat Premier 'Midnight Navy'.png\",\n",
              " \"Test/Air Jordan 1 Retro High OG BG 'Perforated'.png\",\n",
              " \"Test/AJKO High OG 'Bred'.png\",\n",
              " \"Test/Wmns Air Jordan 1 Mid SE 'Black Barely Volt'.png\",\n",
              " \"Test/Air Jordan 1 Retro Mid 'White Concord'.png\",\n",
              " \"Test/Air Jordan 1 Mid 'UNC'.png\",\n",
              " \"Test/Air Jordan 1 Mid Patent TD 'Black Gold'.png\"]"
            ]
          },
          "metadata": {
            "tags": []
          },
          "execution_count": 87
        }
      ]
    },
    {
      "cell_type": "code",
      "metadata": {
        "id": "hL9wgUVLRFyH",
        "colab_type": "code",
        "colab": {
          "base_uri": "https://localhost:8080/",
          "height": 119
        },
        "outputId": "99d2a92a-94b7-456f-9284-64200413fb0f"
      },
      "source": [
        "proba = model.predict(valid_generator)  #Get probabilities for each class\n",
        "sorted_categories = np.argsort(proba[0])[:-7:-1]  #Get class names for top 10 categories\n",
        "\n",
        "#Print classes and corresponding probabilities\n",
        "for i in range(6):\n",
        "    print(\"{}\".format(class_labels[sorted_categories[i]])+\" ({:.3})\".format(proba[0][sorted_categories[i]]))"
      ],
      "execution_count": 79,
      "outputs": [
        {
          "output_type": "stream",
          "text": [
            "Kobe (0.636)\n",
            "Air Jordan (0.321)\n",
            "Nike Air Max (0.0331)\n",
            "Adidas (0.0089)\n",
            "Nike Air Force (0.00135)\n",
            "Nike SB (4.15e-05)\n"
          ],
          "name": "stdout"
        }
      ]
    }
  ]
}